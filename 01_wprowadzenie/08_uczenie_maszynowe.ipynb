{
  "nbformat": 4,
  "nbformat_minor": 0,
  "metadata": {
    "colab": {
      "provenance": [],
      "authorship_tag": "ABX9TyNWVpLshBMyOLx9yKeRYcwp",
      "include_colab_link": true
    },
    "kernelspec": {
      "name": "python3",
      "display_name": "Python 3"
    },
    "language_info": {
      "name": "python"
    }
  },
  "cells": [
    {
      "cell_type": "markdown",
      "metadata": {
        "id": "view-in-github",
        "colab_type": "text"
      },
      "source": [
        "<a href=\"https://colab.research.google.com/github/wojtek840919/data-science-bootcamp/blob/main/01_wprowadzenie/08_uczenie_maszynowe.ipynb\" target=\"_parent\"><img src=\"https://colab.research.google.com/assets/colab-badge.svg\" alt=\"Open In Colab\"/></a>"
      ]
    },
    {
      "cell_type": "code",
      "execution_count": 2,
      "metadata": {
        "id": "-LuYZwJK5Ebl",
        "colab": {
          "base_uri": "https://localhost:8080/"
        },
        "outputId": "203c4a95-dc28-4255-abbd-1ca829aaa4b8"
      },
      "outputs": [
        {
          "output_type": "stream",
          "name": "stdout",
          "text": [
            "[ 79.75485833 106.74746116  64.8311429   93.15267461  99.46621663\n",
            "  95.36855718 117.88116589 110.83760916 125.63238671 134.2707729\n",
            "  89.75684754  91.0041117   43.55093538 109.99664318 111.74503614\n",
            "  78.2273037   74.96379955 107.9213333  102.39243315 113.05951497\n",
            " 103.57744777 131.16199533 124.47415744 118.72190905 127.28778122\n",
            " 109.13395758 117.28480436 107.45550148 109.72519217  88.44037749\n",
            "  84.31877295  78.25334231  97.90612988 102.0576906  109.31628066\n",
            " 140.42228645 106.24533253 117.39395296 104.60322856  80.89602971\n",
            " 124.99357967  97.59855466  84.08808369  64.89668557  97.94234515\n",
            "  91.89795292  81.95622584  79.54120191  78.93974138  99.42032025]\n",
            "[ 85.3554433  113.8795363   54.36591239  92.27880834  96.4239076\n",
            "  86.19547057 120.44684828  98.49029845 119.00456754 143.66233729\n",
            "  94.60859519 103.35114014  46.97449344 116.40712317 108.74076808\n",
            "  76.93872094  75.14835086 111.40264582  98.21397653 101.09776735\n",
            " 129.31783157 139.50572073 132.3451132  125.32870193 103.07675387\n",
            " 100.79141159 107.40934777 104.24393169  93.78696109  87.65238238\n",
            "  95.60607601  91.56350217 112.19864876 118.18354654  95.26852549\n",
            " 142.49866408 108.49724847 123.44746097 106.09896491  90.16952588\n",
            " 126.68316167 103.50353517  86.28286149  79.01110895  86.6134881\n",
            " 106.45289262  83.38153292 101.90116734  81.97697925  89.38739936]\n"
          ]
        }
      ],
      "source": [
        "import plotly.graph_objects as go\n",
        "import numpy as np\n",
        "import pandas as pd\n",
        "import plotly.express as px\n",
        "\n",
        "y_true = 100 + 20 * np.random.randn(50)\n",
        "print(y_true)\n",
        "\n",
        "y_pred = y_true + 10 * np.random.randn(50)\n",
        "print(y_pred)\n"
      ]
    },
    {
      "cell_type": "code",
      "source": [
        "results = pd.DataFrame({'y_true': y_true, 'y_pred': y_pred})\n",
        "results.head()\n"
      ],
      "metadata": {
        "colab": {
          "base_uri": "https://localhost:8080/",
          "height": 206
        },
        "id": "em2MExua5RDU",
        "outputId": "d6c2f0fa-334f-4cec-f959-21e653c322da"
      },
      "execution_count": null,
      "outputs": [
        {
          "output_type": "execute_result",
          "data": {
            "text/plain": [
              "       y_true      y_pred\n",
              "0  112.174702  113.233298\n",
              "1  106.228681  111.626871\n",
              "2  128.925861  119.286602\n",
              "3   72.132567   57.342874\n",
              "4   90.086427   92.151339"
            ],
            "text/html": [
              "\n",
              "  <div id=\"df-7301bbd1-f93d-48ab-be1a-e9d7373819af\">\n",
              "    <div class=\"colab-df-container\">\n",
              "      <div>\n",
              "<style scoped>\n",
              "    .dataframe tbody tr th:only-of-type {\n",
              "        vertical-align: middle;\n",
              "    }\n",
              "\n",
              "    .dataframe tbody tr th {\n",
              "        vertical-align: top;\n",
              "    }\n",
              "\n",
              "    .dataframe thead th {\n",
              "        text-align: right;\n",
              "    }\n",
              "</style>\n",
              "<table border=\"1\" class=\"dataframe\">\n",
              "  <thead>\n",
              "    <tr style=\"text-align: right;\">\n",
              "      <th></th>\n",
              "      <th>y_true</th>\n",
              "      <th>y_pred</th>\n",
              "    </tr>\n",
              "  </thead>\n",
              "  <tbody>\n",
              "    <tr>\n",
              "      <th>0</th>\n",
              "      <td>112.174702</td>\n",
              "      <td>113.233298</td>\n",
              "    </tr>\n",
              "    <tr>\n",
              "      <th>1</th>\n",
              "      <td>106.228681</td>\n",
              "      <td>111.626871</td>\n",
              "    </tr>\n",
              "    <tr>\n",
              "      <th>2</th>\n",
              "      <td>128.925861</td>\n",
              "      <td>119.286602</td>\n",
              "    </tr>\n",
              "    <tr>\n",
              "      <th>3</th>\n",
              "      <td>72.132567</td>\n",
              "      <td>57.342874</td>\n",
              "    </tr>\n",
              "    <tr>\n",
              "      <th>4</th>\n",
              "      <td>90.086427</td>\n",
              "      <td>92.151339</td>\n",
              "    </tr>\n",
              "  </tbody>\n",
              "</table>\n",
              "</div>\n",
              "      <button class=\"colab-df-convert\" onclick=\"convertToInteractive('df-7301bbd1-f93d-48ab-be1a-e9d7373819af')\"\n",
              "              title=\"Convert this dataframe to an interactive table.\"\n",
              "              style=\"display:none;\">\n",
              "        \n",
              "  <svg xmlns=\"http://www.w3.org/2000/svg\" height=\"24px\"viewBox=\"0 0 24 24\"\n",
              "       width=\"24px\">\n",
              "    <path d=\"M0 0h24v24H0V0z\" fill=\"none\"/>\n",
              "    <path d=\"M18.56 5.44l.94 2.06.94-2.06 2.06-.94-2.06-.94-.94-2.06-.94 2.06-2.06.94zm-11 1L8.5 8.5l.94-2.06 2.06-.94-2.06-.94L8.5 2.5l-.94 2.06-2.06.94zm10 10l.94 2.06.94-2.06 2.06-.94-2.06-.94-.94-2.06-.94 2.06-2.06.94z\"/><path d=\"M17.41 7.96l-1.37-1.37c-.4-.4-.92-.59-1.43-.59-.52 0-1.04.2-1.43.59L10.3 9.45l-7.72 7.72c-.78.78-.78 2.05 0 2.83L4 21.41c.39.39.9.59 1.41.59.51 0 1.02-.2 1.41-.59l7.78-7.78 2.81-2.81c.8-.78.8-2.07 0-2.86zM5.41 20L4 18.59l7.72-7.72 1.47 1.35L5.41 20z\"/>\n",
              "  </svg>\n",
              "      </button>\n",
              "      \n",
              "  <style>\n",
              "    .colab-df-container {\n",
              "      display:flex;\n",
              "      flex-wrap:wrap;\n",
              "      gap: 12px;\n",
              "    }\n",
              "\n",
              "    .colab-df-convert {\n",
              "      background-color: #E8F0FE;\n",
              "      border: none;\n",
              "      border-radius: 50%;\n",
              "      cursor: pointer;\n",
              "      display: none;\n",
              "      fill: #1967D2;\n",
              "      height: 32px;\n",
              "      padding: 0 0 0 0;\n",
              "      width: 32px;\n",
              "    }\n",
              "\n",
              "    .colab-df-convert:hover {\n",
              "      background-color: #E2EBFA;\n",
              "      box-shadow: 0px 1px 2px rgba(60, 64, 67, 0.3), 0px 1px 3px 1px rgba(60, 64, 67, 0.15);\n",
              "      fill: #174EA6;\n",
              "    }\n",
              "\n",
              "    [theme=dark] .colab-df-convert {\n",
              "      background-color: #3B4455;\n",
              "      fill: #D2E3FC;\n",
              "    }\n",
              "\n",
              "    [theme=dark] .colab-df-convert:hover {\n",
              "      background-color: #434B5C;\n",
              "      box-shadow: 0px 1px 3px 1px rgba(0, 0, 0, 0.15);\n",
              "      filter: drop-shadow(0px 1px 2px rgba(0, 0, 0, 0.3));\n",
              "      fill: #FFFFFF;\n",
              "    }\n",
              "  </style>\n",
              "\n",
              "      <script>\n",
              "        const buttonEl =\n",
              "          document.querySelector('#df-7301bbd1-f93d-48ab-be1a-e9d7373819af button.colab-df-convert');\n",
              "        buttonEl.style.display =\n",
              "          google.colab.kernel.accessAllowed ? 'block' : 'none';\n",
              "\n",
              "        async function convertToInteractive(key) {\n",
              "          const element = document.querySelector('#df-7301bbd1-f93d-48ab-be1a-e9d7373819af');\n",
              "          const dataTable =\n",
              "            await google.colab.kernel.invokeFunction('convertToInteractive',\n",
              "                                                     [key], {});\n",
              "          if (!dataTable) return;\n",
              "\n",
              "          const docLinkHtml = 'Like what you see? Visit the ' +\n",
              "            '<a target=\"_blank\" href=https://colab.research.google.com/notebooks/data_table.ipynb>data table notebook</a>'\n",
              "            + ' to learn more about interactive tables.';\n",
              "          element.innerHTML = '';\n",
              "          dataTable['output_type'] = 'display_data';\n",
              "          await google.colab.output.renderOutput(dataTable, element);\n",
              "          const docLink = document.createElement('div');\n",
              "          docLink.innerHTML = docLinkHtml;\n",
              "          element.appendChild(docLink);\n",
              "        }\n",
              "      </script>\n",
              "    </div>\n",
              "  </div>\n",
              "  "
            ]
          },
          "metadata": {},
          "execution_count": 4
        }
      ]
    },
    {
      "cell_type": "code",
      "source": [
        "\n",
        "results['error'] = results['y_true'] -results['y_pred']\n",
        "results.head()"
      ],
      "metadata": {
        "colab": {
          "base_uri": "https://localhost:8080/",
          "height": 206
        },
        "id": "kzQxQ_i85Suo",
        "outputId": "98a43115-be08-479c-cfc1-bc629db00466"
      },
      "execution_count": null,
      "outputs": [
        {
          "output_type": "execute_result",
          "data": {
            "text/plain": [
              "       y_true      y_pred      error\n",
              "0  112.174702  113.233298  -1.058596\n",
              "1  106.228681  111.626871  -5.398189\n",
              "2  128.925861  119.286602   9.639259\n",
              "3   72.132567   57.342874  14.789693\n",
              "4   90.086427   92.151339  -2.064911"
            ],
            "text/html": [
              "\n",
              "  <div id=\"df-c9264af2-24a1-440b-801e-2cc8d46b51e5\">\n",
              "    <div class=\"colab-df-container\">\n",
              "      <div>\n",
              "<style scoped>\n",
              "    .dataframe tbody tr th:only-of-type {\n",
              "        vertical-align: middle;\n",
              "    }\n",
              "\n",
              "    .dataframe tbody tr th {\n",
              "        vertical-align: top;\n",
              "    }\n",
              "\n",
              "    .dataframe thead th {\n",
              "        text-align: right;\n",
              "    }\n",
              "</style>\n",
              "<table border=\"1\" class=\"dataframe\">\n",
              "  <thead>\n",
              "    <tr style=\"text-align: right;\">\n",
              "      <th></th>\n",
              "      <th>y_true</th>\n",
              "      <th>y_pred</th>\n",
              "      <th>error</th>\n",
              "    </tr>\n",
              "  </thead>\n",
              "  <tbody>\n",
              "    <tr>\n",
              "      <th>0</th>\n",
              "      <td>112.174702</td>\n",
              "      <td>113.233298</td>\n",
              "      <td>-1.058596</td>\n",
              "    </tr>\n",
              "    <tr>\n",
              "      <th>1</th>\n",
              "      <td>106.228681</td>\n",
              "      <td>111.626871</td>\n",
              "      <td>-5.398189</td>\n",
              "    </tr>\n",
              "    <tr>\n",
              "      <th>2</th>\n",
              "      <td>128.925861</td>\n",
              "      <td>119.286602</td>\n",
              "      <td>9.639259</td>\n",
              "    </tr>\n",
              "    <tr>\n",
              "      <th>3</th>\n",
              "      <td>72.132567</td>\n",
              "      <td>57.342874</td>\n",
              "      <td>14.789693</td>\n",
              "    </tr>\n",
              "    <tr>\n",
              "      <th>4</th>\n",
              "      <td>90.086427</td>\n",
              "      <td>92.151339</td>\n",
              "      <td>-2.064911</td>\n",
              "    </tr>\n",
              "  </tbody>\n",
              "</table>\n",
              "</div>\n",
              "      <button class=\"colab-df-convert\" onclick=\"convertToInteractive('df-c9264af2-24a1-440b-801e-2cc8d46b51e5')\"\n",
              "              title=\"Convert this dataframe to an interactive table.\"\n",
              "              style=\"display:none;\">\n",
              "        \n",
              "  <svg xmlns=\"http://www.w3.org/2000/svg\" height=\"24px\"viewBox=\"0 0 24 24\"\n",
              "       width=\"24px\">\n",
              "    <path d=\"M0 0h24v24H0V0z\" fill=\"none\"/>\n",
              "    <path d=\"M18.56 5.44l.94 2.06.94-2.06 2.06-.94-2.06-.94-.94-2.06-.94 2.06-2.06.94zm-11 1L8.5 8.5l.94-2.06 2.06-.94-2.06-.94L8.5 2.5l-.94 2.06-2.06.94zm10 10l.94 2.06.94-2.06 2.06-.94-2.06-.94-.94-2.06-.94 2.06-2.06.94z\"/><path d=\"M17.41 7.96l-1.37-1.37c-.4-.4-.92-.59-1.43-.59-.52 0-1.04.2-1.43.59L10.3 9.45l-7.72 7.72c-.78.78-.78 2.05 0 2.83L4 21.41c.39.39.9.59 1.41.59.51 0 1.02-.2 1.41-.59l7.78-7.78 2.81-2.81c.8-.78.8-2.07 0-2.86zM5.41 20L4 18.59l7.72-7.72 1.47 1.35L5.41 20z\"/>\n",
              "  </svg>\n",
              "      </button>\n",
              "      \n",
              "  <style>\n",
              "    .colab-df-container {\n",
              "      display:flex;\n",
              "      flex-wrap:wrap;\n",
              "      gap: 12px;\n",
              "    }\n",
              "\n",
              "    .colab-df-convert {\n",
              "      background-color: #E8F0FE;\n",
              "      border: none;\n",
              "      border-radius: 50%;\n",
              "      cursor: pointer;\n",
              "      display: none;\n",
              "      fill: #1967D2;\n",
              "      height: 32px;\n",
              "      padding: 0 0 0 0;\n",
              "      width: 32px;\n",
              "    }\n",
              "\n",
              "    .colab-df-convert:hover {\n",
              "      background-color: #E2EBFA;\n",
              "      box-shadow: 0px 1px 2px rgba(60, 64, 67, 0.3), 0px 1px 3px 1px rgba(60, 64, 67, 0.15);\n",
              "      fill: #174EA6;\n",
              "    }\n",
              "\n",
              "    [theme=dark] .colab-df-convert {\n",
              "      background-color: #3B4455;\n",
              "      fill: #D2E3FC;\n",
              "    }\n",
              "\n",
              "    [theme=dark] .colab-df-convert:hover {\n",
              "      background-color: #434B5C;\n",
              "      box-shadow: 0px 1px 3px 1px rgba(0, 0, 0, 0.15);\n",
              "      filter: drop-shadow(0px 1px 2px rgba(0, 0, 0, 0.3));\n",
              "      fill: #FFFFFF;\n",
              "    }\n",
              "  </style>\n",
              "\n",
              "      <script>\n",
              "        const buttonEl =\n",
              "          document.querySelector('#df-c9264af2-24a1-440b-801e-2cc8d46b51e5 button.colab-df-convert');\n",
              "        buttonEl.style.display =\n",
              "          google.colab.kernel.accessAllowed ? 'block' : 'none';\n",
              "\n",
              "        async function convertToInteractive(key) {\n",
              "          const element = document.querySelector('#df-c9264af2-24a1-440b-801e-2cc8d46b51e5');\n",
              "          const dataTable =\n",
              "            await google.colab.kernel.invokeFunction('convertToInteractive',\n",
              "                                                     [key], {});\n",
              "          if (!dataTable) return;\n",
              "\n",
              "          const docLinkHtml = 'Like what you see? Visit the ' +\n",
              "            '<a target=\"_blank\" href=https://colab.research.google.com/notebooks/data_table.ipynb>data table notebook</a>'\n",
              "            + ' to learn more about interactive tables.';\n",
              "          element.innerHTML = '';\n",
              "          dataTable['output_type'] = 'display_data';\n",
              "          await google.colab.output.renderOutput(dataTable, element);\n",
              "          const docLink = document.createElement('div');\n",
              "          docLink.innerHTML = docLinkHtml;\n",
              "          element.appendChild(docLink);\n",
              "        }\n",
              "      </script>\n",
              "    </div>\n",
              "  </div>\n",
              "  "
            ]
          },
          "metadata": {},
          "execution_count": 5
        }
      ]
    },
    {
      "cell_type": "code",
      "source": [
        "def plot_regression_results(y_true, y_pred):\n",
        "    results = pd.DataFrame({'y_true': y_true, 'y_pred': y_pred})\n",
        "    min = results[['y_true', 'y_pred']].min().min()\n",
        "    max = results[['y_true', 'y_pred']].max().max()\n",
        "\n",
        "    \n",
        "\n",
        "    fig=go.Figure(data=[go.Scatter(x=results['y_true'], y=results['y_pred'], mode='markers'),\n",
        "                    go.Scatter(x=[min, max], y=[min, max])],\n",
        "              layout=go.Layout(showlegend=False, width=800, height=500,\n",
        "                                xaxis_title='y_true',\n",
        "                               yaxis_title='y_pred',\n",
        "                               title='Regression Results'))\n",
        "    fig.show()\n",
        "plot_regression_results(y_true, y_pred)"
      ],
      "metadata": {
        "colab": {
          "base_uri": "https://localhost:8080/",
          "height": 517
        },
        "id": "QHtqeC_g5lU-",
        "outputId": "da1161f7-b360-4b2d-a30c-33b0dc768f34"
      },
      "execution_count": null,
      "outputs": [
        {
          "output_type": "display_data",
          "data": {
            "text/html": [
              "<html>\n",
              "<head><meta charset=\"utf-8\" /></head>\n",
              "<body>\n",
              "    <div>            <script src=\"https://cdnjs.cloudflare.com/ajax/libs/mathjax/2.7.5/MathJax.js?config=TeX-AMS-MML_SVG\"></script><script type=\"text/javascript\">if (window.MathJax && window.MathJax.Hub && window.MathJax.Hub.Config) {window.MathJax.Hub.Config({SVG: {font: \"STIX-Web\"}});}</script>                <script type=\"text/javascript\">window.PlotlyConfig = {MathJaxConfig: 'local'};</script>\n",
              "        <script src=\"https://cdn.plot.ly/plotly-2.18.2.min.js\"></script>                <div id=\"526d999b-bcdb-48ed-b578-73b679401454\" class=\"plotly-graph-div\" style=\"height:500px; width:800px;\"></div>            <script type=\"text/javascript\">                                    window.PLOTLYENV=window.PLOTLYENV || {};                                    if (document.getElementById(\"526d999b-bcdb-48ed-b578-73b679401454\")) {                    Plotly.newPlot(                        \"526d999b-bcdb-48ed-b578-73b679401454\",                        [{\"mode\":\"markers\",\"x\":[112.17470202720027,106.22868130488442,128.92586089582898,72.13256679915055,90.08642742114549,109.28232886856706,49.314664681336204,102.12458771357826,80.88776674191418,98.96005789080235,105.58548599037812,57.22337682400607,113.57277090304473,99.04647679426704,91.70859703857134,113.72454271100867,100.3687961766067,85.82691113217875,68.37707079102223,111.31836576882878,86.64607212560618,52.329371292992384,83.35772245559377,139.76891278712048,85.19230596773342,75.36201160799064,95.31511080825692,101.2069259067939,64.26840597319864,121.1763353038377,104.21521932931445,67.50481638468975,113.55328647258924,88.0484382988421,130.14314415597107,109.07825034716724,106.9959484923645,108.0127567327515,103.72815785056429,128.4079449595311,146.9458161670076,112.11032791354788,107.96397667026437,98.33721392770194,98.10088199258387,117.20639102736195,89.80539599014057,99.78238090277415,97.8876670443782,84.8758588905884],\"y\":[113.23329798618146,111.62687069514472,119.28660205317041,57.342873970462215,92.15133885657009,95.06887443313752,42.17232089961549,118.29499251209172,74.47314252959518,90.24389383156579,102.83388749479435,59.99976405791102,99.81760470332645,99.64535221304311,79.78499432390835,114.79599448115621,87.64719362327662,84.17354008637835,63.03265389874326,105.02340171929163,102.2363732302198,52.67662811164018,96.03122753712668,145.67841469289846,81.60801262433439,73.64074449976522,105.22072726012671,108.44806528657395,45.04581543846645,123.375306915987,91.959608595276,58.72136310296527,100.48887613115048,89.42585255889094,119.37175257017591,112.43191134297282,93.12215170043778,107.67201143960287,105.46890492075704,119.18776473924633,128.89460470286227,109.06740227996647,110.77529918201901,108.3473371250035,98.06324265580743,113.35661763579148,95.0469495372577,88.75846506432786,81.78543987498132,102.3024142211336],\"type\":\"scatter\"},{\"x\":[42.17232089961549,146.9458161670076],\"y\":[42.17232089961549,146.9458161670076],\"type\":\"scatter\"}],                        {\"height\":500,\"showlegend\":false,\"title\":{\"text\":\"Regression Results\"},\"width\":800,\"xaxis\":{\"title\":{\"text\":\"y_true\"}},\"yaxis\":{\"title\":{\"text\":\"y_pred\"}},\"template\":{\"data\":{\"histogram2dcontour\":[{\"type\":\"histogram2dcontour\",\"colorbar\":{\"outlinewidth\":0,\"ticks\":\"\"},\"colorscale\":[[0.0,\"#0d0887\"],[0.1111111111111111,\"#46039f\"],[0.2222222222222222,\"#7201a8\"],[0.3333333333333333,\"#9c179e\"],[0.4444444444444444,\"#bd3786\"],[0.5555555555555556,\"#d8576b\"],[0.6666666666666666,\"#ed7953\"],[0.7777777777777778,\"#fb9f3a\"],[0.8888888888888888,\"#fdca26\"],[1.0,\"#f0f921\"]]}],\"choropleth\":[{\"type\":\"choropleth\",\"colorbar\":{\"outlinewidth\":0,\"ticks\":\"\"}}],\"histogram2d\":[{\"type\":\"histogram2d\",\"colorbar\":{\"outlinewidth\":0,\"ticks\":\"\"},\"colorscale\":[[0.0,\"#0d0887\"],[0.1111111111111111,\"#46039f\"],[0.2222222222222222,\"#7201a8\"],[0.3333333333333333,\"#9c179e\"],[0.4444444444444444,\"#bd3786\"],[0.5555555555555556,\"#d8576b\"],[0.6666666666666666,\"#ed7953\"],[0.7777777777777778,\"#fb9f3a\"],[0.8888888888888888,\"#fdca26\"],[1.0,\"#f0f921\"]]}],\"heatmap\":[{\"type\":\"heatmap\",\"colorbar\":{\"outlinewidth\":0,\"ticks\":\"\"},\"colorscale\":[[0.0,\"#0d0887\"],[0.1111111111111111,\"#46039f\"],[0.2222222222222222,\"#7201a8\"],[0.3333333333333333,\"#9c179e\"],[0.4444444444444444,\"#bd3786\"],[0.5555555555555556,\"#d8576b\"],[0.6666666666666666,\"#ed7953\"],[0.7777777777777778,\"#fb9f3a\"],[0.8888888888888888,\"#fdca26\"],[1.0,\"#f0f921\"]]}],\"heatmapgl\":[{\"type\":\"heatmapgl\",\"colorbar\":{\"outlinewidth\":0,\"ticks\":\"\"},\"colorscale\":[[0.0,\"#0d0887\"],[0.1111111111111111,\"#46039f\"],[0.2222222222222222,\"#7201a8\"],[0.3333333333333333,\"#9c179e\"],[0.4444444444444444,\"#bd3786\"],[0.5555555555555556,\"#d8576b\"],[0.6666666666666666,\"#ed7953\"],[0.7777777777777778,\"#fb9f3a\"],[0.8888888888888888,\"#fdca26\"],[1.0,\"#f0f921\"]]}],\"contourcarpet\":[{\"type\":\"contourcarpet\",\"colorbar\":{\"outlinewidth\":0,\"ticks\":\"\"}}],\"contour\":[{\"type\":\"contour\",\"colorbar\":{\"outlinewidth\":0,\"ticks\":\"\"},\"colorscale\":[[0.0,\"#0d0887\"],[0.1111111111111111,\"#46039f\"],[0.2222222222222222,\"#7201a8\"],[0.3333333333333333,\"#9c179e\"],[0.4444444444444444,\"#bd3786\"],[0.5555555555555556,\"#d8576b\"],[0.6666666666666666,\"#ed7953\"],[0.7777777777777778,\"#fb9f3a\"],[0.8888888888888888,\"#fdca26\"],[1.0,\"#f0f921\"]]}],\"surface\":[{\"type\":\"surface\",\"colorbar\":{\"outlinewidth\":0,\"ticks\":\"\"},\"colorscale\":[[0.0,\"#0d0887\"],[0.1111111111111111,\"#46039f\"],[0.2222222222222222,\"#7201a8\"],[0.3333333333333333,\"#9c179e\"],[0.4444444444444444,\"#bd3786\"],[0.5555555555555556,\"#d8576b\"],[0.6666666666666666,\"#ed7953\"],[0.7777777777777778,\"#fb9f3a\"],[0.8888888888888888,\"#fdca26\"],[1.0,\"#f0f921\"]]}],\"mesh3d\":[{\"type\":\"mesh3d\",\"colorbar\":{\"outlinewidth\":0,\"ticks\":\"\"}}],\"scatter\":[{\"fillpattern\":{\"fillmode\":\"overlay\",\"size\":10,\"solidity\":0.2},\"type\":\"scatter\"}],\"parcoords\":[{\"type\":\"parcoords\",\"line\":{\"colorbar\":{\"outlinewidth\":0,\"ticks\":\"\"}}}],\"scatterpolargl\":[{\"type\":\"scatterpolargl\",\"marker\":{\"colorbar\":{\"outlinewidth\":0,\"ticks\":\"\"}}}],\"bar\":[{\"error_x\":{\"color\":\"#2a3f5f\"},\"error_y\":{\"color\":\"#2a3f5f\"},\"marker\":{\"line\":{\"color\":\"#E5ECF6\",\"width\":0.5},\"pattern\":{\"fillmode\":\"overlay\",\"size\":10,\"solidity\":0.2}},\"type\":\"bar\"}],\"scattergeo\":[{\"type\":\"scattergeo\",\"marker\":{\"colorbar\":{\"outlinewidth\":0,\"ticks\":\"\"}}}],\"scatterpolar\":[{\"type\":\"scatterpolar\",\"marker\":{\"colorbar\":{\"outlinewidth\":0,\"ticks\":\"\"}}}],\"histogram\":[{\"marker\":{\"pattern\":{\"fillmode\":\"overlay\",\"size\":10,\"solidity\":0.2}},\"type\":\"histogram\"}],\"scattergl\":[{\"type\":\"scattergl\",\"marker\":{\"colorbar\":{\"outlinewidth\":0,\"ticks\":\"\"}}}],\"scatter3d\":[{\"type\":\"scatter3d\",\"line\":{\"colorbar\":{\"outlinewidth\":0,\"ticks\":\"\"}},\"marker\":{\"colorbar\":{\"outlinewidth\":0,\"ticks\":\"\"}}}],\"scattermapbox\":[{\"type\":\"scattermapbox\",\"marker\":{\"colorbar\":{\"outlinewidth\":0,\"ticks\":\"\"}}}],\"scatterternary\":[{\"type\":\"scatterternary\",\"marker\":{\"colorbar\":{\"outlinewidth\":0,\"ticks\":\"\"}}}],\"scattercarpet\":[{\"type\":\"scattercarpet\",\"marker\":{\"colorbar\":{\"outlinewidth\":0,\"ticks\":\"\"}}}],\"carpet\":[{\"aaxis\":{\"endlinecolor\":\"#2a3f5f\",\"gridcolor\":\"white\",\"linecolor\":\"white\",\"minorgridcolor\":\"white\",\"startlinecolor\":\"#2a3f5f\"},\"baxis\":{\"endlinecolor\":\"#2a3f5f\",\"gridcolor\":\"white\",\"linecolor\":\"white\",\"minorgridcolor\":\"white\",\"startlinecolor\":\"#2a3f5f\"},\"type\":\"carpet\"}],\"table\":[{\"cells\":{\"fill\":{\"color\":\"#EBF0F8\"},\"line\":{\"color\":\"white\"}},\"header\":{\"fill\":{\"color\":\"#C8D4E3\"},\"line\":{\"color\":\"white\"}},\"type\":\"table\"}],\"barpolar\":[{\"marker\":{\"line\":{\"color\":\"#E5ECF6\",\"width\":0.5},\"pattern\":{\"fillmode\":\"overlay\",\"size\":10,\"solidity\":0.2}},\"type\":\"barpolar\"}],\"pie\":[{\"automargin\":true,\"type\":\"pie\"}]},\"layout\":{\"autotypenumbers\":\"strict\",\"colorway\":[\"#636efa\",\"#EF553B\",\"#00cc96\",\"#ab63fa\",\"#FFA15A\",\"#19d3f3\",\"#FF6692\",\"#B6E880\",\"#FF97FF\",\"#FECB52\"],\"font\":{\"color\":\"#2a3f5f\"},\"hovermode\":\"closest\",\"hoverlabel\":{\"align\":\"left\"},\"paper_bgcolor\":\"white\",\"plot_bgcolor\":\"#E5ECF6\",\"polar\":{\"bgcolor\":\"#E5ECF6\",\"angularaxis\":{\"gridcolor\":\"white\",\"linecolor\":\"white\",\"ticks\":\"\"},\"radialaxis\":{\"gridcolor\":\"white\",\"linecolor\":\"white\",\"ticks\":\"\"}},\"ternary\":{\"bgcolor\":\"#E5ECF6\",\"aaxis\":{\"gridcolor\":\"white\",\"linecolor\":\"white\",\"ticks\":\"\"},\"baxis\":{\"gridcolor\":\"white\",\"linecolor\":\"white\",\"ticks\":\"\"},\"caxis\":{\"gridcolor\":\"white\",\"linecolor\":\"white\",\"ticks\":\"\"}},\"coloraxis\":{\"colorbar\":{\"outlinewidth\":0,\"ticks\":\"\"}},\"colorscale\":{\"sequential\":[[0.0,\"#0d0887\"],[0.1111111111111111,\"#46039f\"],[0.2222222222222222,\"#7201a8\"],[0.3333333333333333,\"#9c179e\"],[0.4444444444444444,\"#bd3786\"],[0.5555555555555556,\"#d8576b\"],[0.6666666666666666,\"#ed7953\"],[0.7777777777777778,\"#fb9f3a\"],[0.8888888888888888,\"#fdca26\"],[1.0,\"#f0f921\"]],\"sequentialminus\":[[0.0,\"#0d0887\"],[0.1111111111111111,\"#46039f\"],[0.2222222222222222,\"#7201a8\"],[0.3333333333333333,\"#9c179e\"],[0.4444444444444444,\"#bd3786\"],[0.5555555555555556,\"#d8576b\"],[0.6666666666666666,\"#ed7953\"],[0.7777777777777778,\"#fb9f3a\"],[0.8888888888888888,\"#fdca26\"],[1.0,\"#f0f921\"]],\"diverging\":[[0,\"#8e0152\"],[0.1,\"#c51b7d\"],[0.2,\"#de77ae\"],[0.3,\"#f1b6da\"],[0.4,\"#fde0ef\"],[0.5,\"#f7f7f7\"],[0.6,\"#e6f5d0\"],[0.7,\"#b8e186\"],[0.8,\"#7fbc41\"],[0.9,\"#4d9221\"],[1,\"#276419\"]]},\"xaxis\":{\"gridcolor\":\"white\",\"linecolor\":\"white\",\"ticks\":\"\",\"title\":{\"standoff\":15},\"zerolinecolor\":\"white\",\"automargin\":true,\"zerolinewidth\":2},\"yaxis\":{\"gridcolor\":\"white\",\"linecolor\":\"white\",\"ticks\":\"\",\"title\":{\"standoff\":15},\"zerolinecolor\":\"white\",\"automargin\":true,\"zerolinewidth\":2},\"scene\":{\"xaxis\":{\"backgroundcolor\":\"#E5ECF6\",\"gridcolor\":\"white\",\"linecolor\":\"white\",\"showbackground\":true,\"ticks\":\"\",\"zerolinecolor\":\"white\",\"gridwidth\":2},\"yaxis\":{\"backgroundcolor\":\"#E5ECF6\",\"gridcolor\":\"white\",\"linecolor\":\"white\",\"showbackground\":true,\"ticks\":\"\",\"zerolinecolor\":\"white\",\"gridwidth\":2},\"zaxis\":{\"backgroundcolor\":\"#E5ECF6\",\"gridcolor\":\"white\",\"linecolor\":\"white\",\"showbackground\":true,\"ticks\":\"\",\"zerolinecolor\":\"white\",\"gridwidth\":2}},\"shapedefaults\":{\"line\":{\"color\":\"#2a3f5f\"}},\"annotationdefaults\":{\"arrowcolor\":\"#2a3f5f\",\"arrowhead\":0,\"arrowwidth\":1},\"geo\":{\"bgcolor\":\"white\",\"landcolor\":\"#E5ECF6\",\"subunitcolor\":\"white\",\"showland\":true,\"showlakes\":true,\"lakecolor\":\"white\"},\"title\":{\"x\":0.05},\"mapbox\":{\"style\":\"light\"}}}},                        {\"responsive\": true}                    ).then(function(){\n",
              "                            \n",
              "var gd = document.getElementById('526d999b-bcdb-48ed-b578-73b679401454');\n",
              "var x = new MutationObserver(function (mutations, observer) {{\n",
              "        var display = window.getComputedStyle(gd).display;\n",
              "        if (!display || display === 'none') {{\n",
              "            console.log([gd, 'removed!']);\n",
              "            Plotly.purge(gd);\n",
              "            observer.disconnect();\n",
              "        }}\n",
              "}});\n",
              "\n",
              "// Listen for the removal of the full notebook cells\n",
              "var notebookContainer = gd.closest('#notebook-container');\n",
              "if (notebookContainer) {{\n",
              "    x.observe(notebookContainer, {childList: true});\n",
              "}}\n",
              "\n",
              "// Listen for the clearing of the current output cell\n",
              "var outputEl = gd.closest('.output');\n",
              "if (outputEl) {{\n",
              "    x.observe(outputEl, {childList: true});\n",
              "}}\n",
              "\n",
              "                        })                };                            </script>        </div>\n",
              "</body>\n",
              "</html>"
            ]
          },
          "metadata": {}
        }
      ]
    },
    {
      "cell_type": "code",
      "source": [
        "y_true = 100 + 20 * np.random.randn(1000)\n",
        "y_pred = y_true + 10 * np.random.randn(1000)\n",
        "results = pd.DataFrame({'y_true': y_true, 'y_pred': y_pred})\n",
        "results['error'] = results['y_true'] -results['y_pred']\n",
        "px.histogram(results, x='error', nbins=50, width=800)"
      ],
      "metadata": {
        "colab": {
          "base_uri": "https://localhost:8080/",
          "height": 542
        },
        "id": "OuCmYm-o-gbc",
        "outputId": "c752a8e6-6d91-4098-a26b-68555dd4fe34"
      },
      "execution_count": null,
      "outputs": [
        {
          "output_type": "display_data",
          "data": {
            "text/html": [
              "<html>\n",
              "<head><meta charset=\"utf-8\" /></head>\n",
              "<body>\n",
              "    <div>            <script src=\"https://cdnjs.cloudflare.com/ajax/libs/mathjax/2.7.5/MathJax.js?config=TeX-AMS-MML_SVG\"></script><script type=\"text/javascript\">if (window.MathJax && window.MathJax.Hub && window.MathJax.Hub.Config) {window.MathJax.Hub.Config({SVG: {font: \"STIX-Web\"}});}</script>                <script type=\"text/javascript\">window.PlotlyConfig = {MathJaxConfig: 'local'};</script>\n",
              "        <script src=\"https://cdn.plot.ly/plotly-2.18.2.min.js\"></script>                <div id=\"d83371a1-c724-47d2-a988-dbc5cd8a41a5\" class=\"plotly-graph-div\" style=\"height:525px; width:800px;\"></div>            <script type=\"text/javascript\">                                    window.PLOTLYENV=window.PLOTLYENV || {};                                    if (document.getElementById(\"d83371a1-c724-47d2-a988-dbc5cd8a41a5\")) {                    Plotly.newPlot(                        \"d83371a1-c724-47d2-a988-dbc5cd8a41a5\",                        [{\"alignmentgroup\":\"True\",\"bingroup\":\"x\",\"hovertemplate\":\"error=%{x}<br>count=%{y}<extra></extra>\",\"legendgroup\":\"\",\"marker\":{\"color\":\"#636efa\",\"pattern\":{\"shape\":\"\"}},\"name\":\"\",\"nbinsx\":50,\"offsetgroup\":\"\",\"orientation\":\"v\",\"showlegend\":false,\"x\":[7.357652758304056,1.4713734744554756,-6.26801353033828,7.02436163368516,-8.76703995429375,-7.05979128587083,-0.9615184995839741,5.981478658354405,-2.2846062147095836,-10.729475662224274,3.6707734293736394,-5.489396603588247,-14.648264110424975,4.701625834663901,16.850287795599243,-15.30255522941927,7.306559911199642,3.792514766769287,6.690151389296389,-22.370619647819538,-1.1256697381232925,-8.865061248507175,-19.44666498263102,26.2016695332822,-6.655742174162626,-0.8853464993566291,0.7582235811479734,8.449294536820545,-3.611128700983471,2.785780865083268,4.717372500880273,8.036834191083301,5.473372516387165,19.739187435825073,8.412537734926886,8.967664947969595,-9.994765645083987,-0.9436652434662136,-1.6647633874089536,10.954145141066931,-6.658655411632722,-3.9059329621757968,-7.202846868230722,5.455616503199678,-2.4722957868668374,1.2637074715007088,13.414058733084872,-2.3284474566781057,6.404316481245871,9.718940493174003,-11.92697410750526,-3.9956933153953713,11.337184929068982,13.749516751815108,12.01928320074083,7.0212506740368354,7.675644400193121,-15.924743439519474,7.22634362449935,11.755055236561788,3.4764172131501354,11.177982810434756,-4.086604294592661,4.564729204603708,-12.96374395884854,-1.3853552037979284,27.97220929451926,-2.7969204607825304,9.45836901384942,2.074673481002975,-8.669086949645447,0.11615363290137282,8.602134342701845,7.252813662228007,-9.312309386750371,24.360477218991335,18.0703878267408,-8.490228627704425,-2.227830855936233,0.6794550621676052,-1.2020534020133766,-11.34517813405597,4.975663788305113,-5.970840687784133,14.15526946344562,-17.95184904115669,1.420556805662656,13.766817223727713,12.800746689602363,2.5872401518576993,2.6054214042664228,17.254565714589347,-6.183096529273229,13.668125648388383,2.430953717516516,7.208145373298038,-0.9863682343051323,-15.494982170758462,6.475381212440368,-21.46183753629832,-3.4675033808643576,-4.689225704713252,2.244123984451761,13.16731364560458,7.646090184239171,-3.8181112377421016,-12.447747773234369,-9.547928984856583,-22.056228477130418,8.983176235415655,-7.282981968217982,-7.214847156360506,10.652660310563462,-1.2643369107919114,20.111936791222206,16.440580369074112,-4.2174147050974256,-3.7408088573028806,-3.80851964093317,-11.460251068838858,2.336519068565721,13.412532794977352,8.15244008765491,11.510731168235722,2.0818260697912336,-1.1639707762077052,-3.2490164750688706,-7.710269671250586,13.715982720581252,0.1939767957919969,0.29201334157582437,-23.077215241322023,4.794953351014044,6.987348797572224,-14.090674553579618,-6.14793843752453,-16.602519280380918,-2.8032728983552886,-2.031922231927453,4.743969803753444,-7.852096605904265,1.8251104864291534,-12.022392813110883,5.463784525432004,-5.19589458822027,-7.844398553664078,4.812742236565114,-11.489004509790888,-4.197783508062713,1.7842314112142361,1.4997276304546432,-10.435631765437051,-18.85215844593671,7.082285495159283,-10.693327308346142,-5.45527577385424,19.70133606001596,-12.641619701854395,-10.436013971987393,0.44054020918881065,-6.273526853779785,2.6708983720932338,-6.730624739701753,-0.843249876771992,20.769778039617606,7.377730897449652,-4.3532613403116756,17.924824448307973,0.42276613419012676,-4.04264661262151,4.0008285953884695,10.92983856468311,-0.7531570078452745,-14.762281628346727,-2.819457948512053,15.635074790853608,0.4552715205597764,-2.2711493811285663,10.283399525027235,6.223876778050936,-18.74152929488151,-24.688842540845954,-8.018512968149565,-2.0430783149044345,-3.8444060008875596,-3.6635648592113625,7.051869686603538,8.17152240545343,-2.4089463667924917,16.20871512464501,20.22812140324251,-2.6362194376228842,9.515512510927294,0.19309934766323522,-13.12697722865471,-15.497458558315145,14.249670321036106,-2.5871339081503493,-7.4353938134773045,11.467491357305178,7.563685085261241,-8.913986767796217,-15.116179913127908,11.42053263824198,17.955941027328393,9.933422699860913,7.046866770430341,-4.193566140492237,-2.8317644919838614,-8.6960010864033,-7.521312548649448,12.56694783354719,5.69895630300725,2.618043780034661,-17.24303656408742,6.058144047191121,-11.119250246480476,-3.4638548126636266,-1.441031989120944,1.7784331171700813,6.33611605766977,2.5774191190027693,2.0488021150191003,-4.6855867119479555,8.482459489364885,11.623467730219616,-6.709461795616846,12.796704474020771,17.975434274553095,-6.45651936092564,-8.960685192667597,8.706808537085664,-9.971281229577215,-0.8758621342047945,18.09512505128488,-19.41270963070089,-8.275433303273843,-6.563641676362906,-3.526830986106205,10.31535068225844,15.642309074031928,-8.646574679854737,-4.3612996302409925,18.437409343422587,-18.04856246932951,-11.783556231077,13.82216835992439,1.0515545078572472,-1.9018777763717623,-7.134428841248891,-20.748763344655742,-13.449335450804114,9.95507649075951,6.742337742884061,-18.08398380024576,-13.782937128946074,7.7424912443302105,5.759813927833022,-1.8487028546091153,0.8485036273218896,1.1940978398937574,-7.403828708173336,-14.17288559940448,7.1882631567063555,-2.8755674279671837,3.557038443064741,0.5444089477618519,7.133733223731838,-13.208853247003319,4.099924285012307,12.70314217618811,-15.832318709937951,-10.980661348633006,3.8104513017377,1.7517694847760623,8.678094711514262,3.339550410972933,-19.596020043076834,-6.014096227572637,-0.8142758852546734,-2.607774829062592,-22.37609638663585,-23.958608895096475,-7.603394327979117,-5.065007838898097,-6.178738038958969,6.272293399983951,14.255281081426425,18.215086856117352,-5.7130299023730515,22.086185851874717,17.811250436299815,3.4084431720061303,-17.61626311458805,11.14953158236115,-22.086835475908856,-9.647723188281475,-2.055875082170715,-10.03468488605131,-4.972359947971583,5.286583141289583,-9.07722856492417,9.974034391123894,-10.487749251897142,-0.889130931535334,9.9601657592966,-10.45784314238557,7.03584366582588,-13.495498018652697,12.613022862653409,-7.066967176570422,-20.572811727699715,3.5315189913478378,-2.1012491869909553,-9.035982266770759,-1.3233701481127582,-22.828334963036397,7.0347198142102485,-15.273404503925335,5.9362335027148845,-4.14834169518538,2.413609837163605,19.469183997527267,-12.388939927746435,8.801320909364932,10.412154575034918,-5.223447453818878,5.576586524517808,-11.574253227426851,9.7960092445512,-1.9248596649684089,-1.5860559948837079,0.9254195352021526,-8.11467823414364,7.968360249590518,0.24974298043601095,0.4764574384585387,-10.277778560546622,-14.981373097062743,12.917094151369739,1.7516744301231597,-4.177236744382014,8.374931216736378,-25.78354861581866,-13.822324598363338,-11.252115775286526,5.109568849172547,-1.5384126246462984,1.857922464283405,3.7922964901799645,-5.136217478643005,11.074556127430853,9.548761696247055,4.1395589384621445,-13.31691894285538,6.28741731049432,9.948001350924784,-5.490868769452831,4.857720122370253,8.344619546553474,15.336097274956131,-0.6687070238064621,16.407265228078913,10.00489214160045,7.479643170332501,-14.158169936830333,-23.800647753204743,14.442374702411996,-6.318826368149658,0.7884905150676644,-15.312815916199042,4.268090755866552,5.349246779920321,-2.3607190290856153,-6.57995133186985,-4.801770216158673,-0.37327687216797756,1.5774900963499903,14.802997797801126,-5.731590659834055,-3.065652686048935,-1.7508637811488938,-7.717662499071665,5.28939846834156,-7.707416117590228,-9.18741487031349,13.875228640149935,5.380399528242052,-9.91851459128921,-6.357473418025236,-5.35510747930735,18.766064897389683,-2.884590548544935,0.48902303664357305,-12.31112493759548,0.4710543868869195,-6.93529799413281,5.136408154610301,6.090896939400082,-4.435681866715171,-8.650562999939396,10.884073791388303,-9.632474973913219,7.222017714118067,2.529679884599034,2.562086346756942,0.3629891567961181,-3.7723314301886717,11.417075909915809,14.790767692195331,-12.319014779406004,18.544600474727417,2.4281579234852018,11.946473307153347,2.123075435017384,3.16450865455991,9.682666637012204,-10.869803745529737,-11.153702088099848,-10.731606465008191,-6.430778127986798,-6.38414273150434,1.291671817378429,17.42397869115385,5.52855543707642,2.1879357857006028,-5.724529937140247,8.382663812648303,1.315665423034929,5.794937315519718,-6.098808430565086,-9.942435636227714,7.796195381225367,9.345370030411715,-5.1306934665785064,-12.878228250873235,-0.6532582399094338,1.5877023443473774,-11.183821090364233,4.9364065274957625,6.837030470609861,8.688794896464572,12.867626503930936,9.550083803899795,12.017463342336754,-17.6857827350064,-14.735565018459681,5.603653818584249,5.893647513680762,5.192113562209585,-1.5568337740709808,18.50150728707459,8.76594903540051,3.026997998340846,14.645166225074007,6.169317190837845,8.390388897861342,-8.05607750176108,-28.779849098215294,-6.592200516148154,-5.517444160562874,-2.01979107928247,-0.9577035355030574,10.713684526172159,-17.05132553596144,-12.452002125440686,8.395829083657588,6.705136539389073,9.151282361117637,1.3631748046443448,12.41364427300664,-0.4338521417391661,10.97221957174456,-12.274529513701694,12.4345136084508,-5.115240822710632,-3.8553171328404545,-3.4850762059999028,-2.1384613586656656,-6.0548295473018925,1.3297473700693985,-7.163761331479634,-6.342930283161209,10.511039092097704,-5.172711205249911,6.05405004128427,-7.996885167776313,-7.6782967755888905,-3.903838919066203,-9.762292198251245,6.399561284620113,9.417165971360888,5.913604424526383,0.8657563786951386,0.3757646381204296,0.12956387783258094,10.819996122822047,-4.163730265602339,-6.234661568584201,3.556575386096739,-1.602472916758387,-7.538994726455854,-19.935593966137887,4.934406646405378,-15.310172918549526,5.986063919975535,-16.78814902551349,-18.46806534925416,-4.5115127945061175,12.112058143378235,2.3197030858372614,8.343027201946,-2.1052322553145615,-11.896140880038402,16.04578593679213,17.41459427513223,1.4743060768478387,-6.832489523250175,-6.076416349342352,1.3159905762925064,-12.651567765448164,-5.840597805698124,8.987853483851978,-7.93508147381425,-2.5051443518969734,4.423565967441107,-17.014183500677106,14.396416939739836,-13.457529921674535,7.913925680819446,2.2797469606425267,5.641959320028576,8.12652620132775,5.842080004971081,1.4754548557099696,-7.645020271176662,-7.195406381049935,21.50374556301331,11.039485698495781,-0.14292485138716415,-23.74047919637016,-2.076911495693878,-8.39989951871867,17.567061031868207,-6.252496281556802,-0.48956270979233807,9.812233645415361,-19.706601651985366,2.1627945243968583,5.79951587490568,8.307463488143,-0.5785664044268941,-9.948574120206331,6.73022372467203,-2.3742407424395964,-3.772536999533159,-0.34373902099950726,2.500794587738497,-19.405796997692136,7.032757542569229,16.287624139651086,5.89449107332625,-5.323691473980176,-12.692321661899555,6.420778703081496,-9.86014119468723,0.11522125761949553,11.161884035674348,4.67126766910593,-4.327451272801042,-8.746524361947209,-7.262168762272836,16.00834480526207,-4.922652309613326,2.4919128473292176,0.7365549861708445,-1.2614717884788007,-9.338489158436431,8.836240833121053,3.600179709634716,13.95021915752639,-3.8217365804176637,14.633322529614802,-1.965798505826612,9.465666786185864,1.3104420978239375,3.7118493519095352,-8.97045241718537,-3.8179008756102064,-2.45512712918341,-3.713884919733758,-4.6884426341902525,-21.31396000392047,-1.6585409733706769,14.654145046274934,2.8981292870519297,6.949626989915899,7.4747333624605545,7.588778737126219,2.676564563265586,2.7996810006549566,5.587650474907491,-8.291783048559878,-4.980681458526334,8.827012064127516,2.4238298298876515,10.821309685284191,5.833832186807243,3.5564717278902123,-12.781104440906063,-3.5574715672776733,-7.824320697058283,-12.752184929549458,9.049077255595435,20.931536425885298,1.0651916298263444,-1.3836506730612257,7.20844040581926,9.261151815916307,-9.543897367905771,-26.15347779080483,3.5486423176752027,-11.228358402197259,14.360532976270107,5.880232776533859,-9.37881009275938,9.806514022994335,2.919940249207926,1.2051590171907947,-2.5089260369706636,-5.893220727789284,6.888656169239525,-3.861481579005158,-1.4211788054259813,1.2959909299330121,17.862796188829407,2.4926420068319146,-9.986516052218633,1.1902781767835364,1.7264675107778231,-16.62405311261061,8.075257817045085,-14.275733541659747,5.049313885178549,-13.284628225360876,-0.6840748195065345,-9.173099804188794,12.462123282177217,24.959570787825612,-14.905430766981667,-4.182591031649366,6.564517925344404,19.48608013482601,-10.558035964590658,-10.527337972823858,-1.5851487111714846,12.625440368341799,9.00487759229361,-10.26945395632805,5.079509030079038,-2.34345302986128,2.2947783581944776,3.023574299551825,8.880310991285796,-7.371120183144271,-10.182636466645576,5.009175285861986,-10.983673536733193,-5.505281749968219,13.709570676086926,11.629943327993729,7.916642908693262,3.013326566074852,-13.65896505613658,-11.000534015196166,-6.015660570371693,-15.25945154130693,0.9313799260226574,-2.075467987546844,-8.052402119643645,11.784348055705678,-3.0086888760210257,-0.8966023731020272,-8.743291363588284,-5.484606580158186,-18.3403493845086,-20.492470440302554,-0.03967468255636675,-12.706493968501306,8.57489958292281,-5.640578624265757,-9.928168341682351,-9.906313156431025,-0.98441097405032,1.0484820748085752,11.256609319917985,-9.514784765351706,-9.46607287458184,16.48580297695179,1.0643089811503472,-1.3086742047135118,-7.328786883249236,-11.1831083572675,2.100438154306559,-0.8994706492769069,-1.3501674326346773,-9.476714134862192,12.36672155668792,-13.401605920601952,9.342243967919927,3.1581430925625966,30.245279053508327,-2.047362979535748,6.213679126504118,-11.604612373915515,7.111439082764292,-13.285484121450565,-0.4623606568512173,12.236985359094348,5.648770279067989,4.822687979180131,3.497561326894264,20.968821397777475,-15.71268064567991,-4.341949394716821,6.886010711004445,-4.576058362754154,3.2032655680635287,0.038771667970010526,0.8941743426710502,-1.1787586771359173,3.5678646821727824,0.7679000649884671,-6.668506044599226,11.90128404245175,6.930833821176165,0.6455205959891117,8.880802582615331,2.7006402195790855,-5.775648438825016,11.65345141028827,-4.3109088244783464,-18.15025613077293,20.152296329035764,2.1713866713933214,-5.203264778800161,-8.320109243328545,-4.510611098364876,3.9681058343535653,4.236246661300299,11.971678062106733,-24.161415951507337,-0.80778725171578,-15.206702139684097,8.076201192047435,10.754920922965567,29.649593481169518,4.242993690222605,7.413489772300579,3.7893254928608684,-5.65968004812251,-4.116038940506456,6.177103914891788,-13.963303403501683,-11.930639355824866,-7.799866226073533,-3.9765469495688848,1.8967251914531573,-10.331724937669108,12.696547282333498,8.747710255601504,-2.698837714725954,-19.13692957016751,-21.265479308667736,5.441241014897258,11.504105528117933,-18.941291377757835,8.905363537482543,-12.513434780096318,1.241571437888041,0.021659192382401216,4.777066335198342,-2.489491260127508,11.9185283039062,-2.1932807763099476,13.281945287552617,-2.54442504945942,13.878392270307373,3.993428317079889,4.359496188241565,17.850690260839514,-2.935582936000202,5.217311726577094,-4.412999381471579,2.9138559709643346,8.930147332769465,-4.680862689678548,9.25004852948544,1.2826098888743331,-7.40254695367905,9.801970715227341,-3.3173434189828797,-20.3797428933062,11.717328715749233,-3.5969158216956743,5.02837202548092,-4.523064044635362,11.778356494383232,8.522418908515803,4.222765118519973,-4.537788593992104,4.655197639092435,4.7458609435071395,5.824409965071595,15.949232664139728,-3.099726032439605,7.470754915273957,-5.618844452863883,21.88101732243777,14.613702470566352,11.139316789020604,4.263431755430233,2.150346373261357,-3.8833720187707144,12.370599309071267,18.432906510325964,-8.283818043957169,-0.27480940596416303,24.197352877891603,18.36788409284233,-9.068302030755973,-11.531799073998457,-20.496929949834055,0.6075407250742586,-18.41565424157305,-1.584318733140634,1.5800436870743653,25.966321598578546,-6.433775565314946,13.713608590048864,11.77276123669624,23.03327218203806,7.846889338473687,9.68791884032214,-0.9443839714372331,9.63742385996295,7.987041496319421,1.483258826936975,-7.469528856084651,16.437370181697872,0.669544102274358,3.0343671608497402,8.3790066176729,-6.90519861262041,12.019775289821837,-1.9894432451213078,-8.573658113394885,-23.249584297961917,7.172485240798963,4.36190312300856,-1.4977760748839728,-6.422205876004625,-20.772505282576347,2.039255383281315,18.1810742281109,-12.762850792537336,-6.832354450628756,-1.9669550861954406,9.131134543773186,2.171068060150276,1.7271258469382644,-18.082310494506785,0.6483023211567343,2.211388911983292,10.446533998346041,8.762904306323286,-3.0051815177660615,14.313481538907197,5.643576911880174,-8.101016234560348,-4.022362335151797,5.319026566007651,10.248940242366302,3.341614998945886,11.416668231280568,3.8523854715231494,-16.334012774388228,-13.061051455490215,14.361940881795952,7.077905014595288,-1.7233868425436327,8.962566008058545,-15.400160774730708,12.738017164207918,14.038960991921513,7.95930965064899,4.952057451073308,3.741007013034519,17.01931113654591,1.389969012545734,1.181295983946825,5.482118625521409,-4.6499263251241985,-5.185561762512066,10.437137575750214,-5.341778443711831,-0.02987086649646642,0.9079726736762836,25.516781021918703,-5.589821371785746,5.241214930460217,6.287811053585827,0.13832447851487473,-7.552061237156309,-4.385125448932499,-4.195395304729445,5.447117113824305,7.41691173719218,1.4920429045862846,-12.802241156718281,4.839601712359979,2.512020593120866,9.736813573332782,4.4911289659156495,1.7935548682349207,-0.8017433931395885,-8.818372927441374,14.16694512965276,12.303479796969029,-4.302023034679564,8.153107859706495,-10.746770301950022,-7.628692851786511,7.410826563459537,-0.7911721092964967,-5.439075063433506,-23.829813859307734,-6.113260830082822,15.038399888685731,-0.9058713996218444,-22.803313599276535,4.256698125548766,3.797586616758224,-22.65311328361254,-10.158478956207517,-9.7863650446603,-1.459988822250324,3.291688964618153,-9.705802677683039,-4.3204381443556485,-11.945765289574993,11.057927434065789,-9.270946727737254,10.438044718577757,-1.0308396024493618,9.632108236447735,-1.3961376299428423,0.511329546546321,-5.153720481466678,7.956721182389842,10.607784480129183,15.08840818326371,13.834293021453249,5.006290599591139,10.087267571623457,-1.5268940909178212,-7.369297879152398,27.829841642090315,-5.112471585073649,6.18815955850242,5.66718213949315,9.87937863698059,-10.565272825088812,3.1811419764634934,4.123621831410844,-2.937777966830268,-1.4957148816213106,4.258315118220196,0.4641086739549962,-7.699483344182511,-10.995768100465611,-0.9364825504999601,1.113983436157568,-6.167355690971576,-3.29433670748179,12.083954853411797,-3.6249987243156596,21.595100473991245,-4.904364922464239,-5.9955263976925295,-5.806258144234732,-5.534806419490565,4.522703362825652,-16.336194281632473,9.608978274085544,7.136964910391413,17.715162451858617,2.4030449191471277,24.223735207092716,-7.431916831667323],\"xaxis\":\"x\",\"yaxis\":\"y\",\"type\":\"histogram\"}],                        {\"template\":{\"data\":{\"histogram2dcontour\":[{\"type\":\"histogram2dcontour\",\"colorbar\":{\"outlinewidth\":0,\"ticks\":\"\"},\"colorscale\":[[0.0,\"#0d0887\"],[0.1111111111111111,\"#46039f\"],[0.2222222222222222,\"#7201a8\"],[0.3333333333333333,\"#9c179e\"],[0.4444444444444444,\"#bd3786\"],[0.5555555555555556,\"#d8576b\"],[0.6666666666666666,\"#ed7953\"],[0.7777777777777778,\"#fb9f3a\"],[0.8888888888888888,\"#fdca26\"],[1.0,\"#f0f921\"]]}],\"choropleth\":[{\"type\":\"choropleth\",\"colorbar\":{\"outlinewidth\":0,\"ticks\":\"\"}}],\"histogram2d\":[{\"type\":\"histogram2d\",\"colorbar\":{\"outlinewidth\":0,\"ticks\":\"\"},\"colorscale\":[[0.0,\"#0d0887\"],[0.1111111111111111,\"#46039f\"],[0.2222222222222222,\"#7201a8\"],[0.3333333333333333,\"#9c179e\"],[0.4444444444444444,\"#bd3786\"],[0.5555555555555556,\"#d8576b\"],[0.6666666666666666,\"#ed7953\"],[0.7777777777777778,\"#fb9f3a\"],[0.8888888888888888,\"#fdca26\"],[1.0,\"#f0f921\"]]}],\"heatmap\":[{\"type\":\"heatmap\",\"colorbar\":{\"outlinewidth\":0,\"ticks\":\"\"},\"colorscale\":[[0.0,\"#0d0887\"],[0.1111111111111111,\"#46039f\"],[0.2222222222222222,\"#7201a8\"],[0.3333333333333333,\"#9c179e\"],[0.4444444444444444,\"#bd3786\"],[0.5555555555555556,\"#d8576b\"],[0.6666666666666666,\"#ed7953\"],[0.7777777777777778,\"#fb9f3a\"],[0.8888888888888888,\"#fdca26\"],[1.0,\"#f0f921\"]]}],\"heatmapgl\":[{\"type\":\"heatmapgl\",\"colorbar\":{\"outlinewidth\":0,\"ticks\":\"\"},\"colorscale\":[[0.0,\"#0d0887\"],[0.1111111111111111,\"#46039f\"],[0.2222222222222222,\"#7201a8\"],[0.3333333333333333,\"#9c179e\"],[0.4444444444444444,\"#bd3786\"],[0.5555555555555556,\"#d8576b\"],[0.6666666666666666,\"#ed7953\"],[0.7777777777777778,\"#fb9f3a\"],[0.8888888888888888,\"#fdca26\"],[1.0,\"#f0f921\"]]}],\"contourcarpet\":[{\"type\":\"contourcarpet\",\"colorbar\":{\"outlinewidth\":0,\"ticks\":\"\"}}],\"contour\":[{\"type\":\"contour\",\"colorbar\":{\"outlinewidth\":0,\"ticks\":\"\"},\"colorscale\":[[0.0,\"#0d0887\"],[0.1111111111111111,\"#46039f\"],[0.2222222222222222,\"#7201a8\"],[0.3333333333333333,\"#9c179e\"],[0.4444444444444444,\"#bd3786\"],[0.5555555555555556,\"#d8576b\"],[0.6666666666666666,\"#ed7953\"],[0.7777777777777778,\"#fb9f3a\"],[0.8888888888888888,\"#fdca26\"],[1.0,\"#f0f921\"]]}],\"surface\":[{\"type\":\"surface\",\"colorbar\":{\"outlinewidth\":0,\"ticks\":\"\"},\"colorscale\":[[0.0,\"#0d0887\"],[0.1111111111111111,\"#46039f\"],[0.2222222222222222,\"#7201a8\"],[0.3333333333333333,\"#9c179e\"],[0.4444444444444444,\"#bd3786\"],[0.5555555555555556,\"#d8576b\"],[0.6666666666666666,\"#ed7953\"],[0.7777777777777778,\"#fb9f3a\"],[0.8888888888888888,\"#fdca26\"],[1.0,\"#f0f921\"]]}],\"mesh3d\":[{\"type\":\"mesh3d\",\"colorbar\":{\"outlinewidth\":0,\"ticks\":\"\"}}],\"scatter\":[{\"fillpattern\":{\"fillmode\":\"overlay\",\"size\":10,\"solidity\":0.2},\"type\":\"scatter\"}],\"parcoords\":[{\"type\":\"parcoords\",\"line\":{\"colorbar\":{\"outlinewidth\":0,\"ticks\":\"\"}}}],\"scatterpolargl\":[{\"type\":\"scatterpolargl\",\"marker\":{\"colorbar\":{\"outlinewidth\":0,\"ticks\":\"\"}}}],\"bar\":[{\"error_x\":{\"color\":\"#2a3f5f\"},\"error_y\":{\"color\":\"#2a3f5f\"},\"marker\":{\"line\":{\"color\":\"#E5ECF6\",\"width\":0.5},\"pattern\":{\"fillmode\":\"overlay\",\"size\":10,\"solidity\":0.2}},\"type\":\"bar\"}],\"scattergeo\":[{\"type\":\"scattergeo\",\"marker\":{\"colorbar\":{\"outlinewidth\":0,\"ticks\":\"\"}}}],\"scatterpolar\":[{\"type\":\"scatterpolar\",\"marker\":{\"colorbar\":{\"outlinewidth\":0,\"ticks\":\"\"}}}],\"histogram\":[{\"marker\":{\"pattern\":{\"fillmode\":\"overlay\",\"size\":10,\"solidity\":0.2}},\"type\":\"histogram\"}],\"scattergl\":[{\"type\":\"scattergl\",\"marker\":{\"colorbar\":{\"outlinewidth\":0,\"ticks\":\"\"}}}],\"scatter3d\":[{\"type\":\"scatter3d\",\"line\":{\"colorbar\":{\"outlinewidth\":0,\"ticks\":\"\"}},\"marker\":{\"colorbar\":{\"outlinewidth\":0,\"ticks\":\"\"}}}],\"scattermapbox\":[{\"type\":\"scattermapbox\",\"marker\":{\"colorbar\":{\"outlinewidth\":0,\"ticks\":\"\"}}}],\"scatterternary\":[{\"type\":\"scatterternary\",\"marker\":{\"colorbar\":{\"outlinewidth\":0,\"ticks\":\"\"}}}],\"scattercarpet\":[{\"type\":\"scattercarpet\",\"marker\":{\"colorbar\":{\"outlinewidth\":0,\"ticks\":\"\"}}}],\"carpet\":[{\"aaxis\":{\"endlinecolor\":\"#2a3f5f\",\"gridcolor\":\"white\",\"linecolor\":\"white\",\"minorgridcolor\":\"white\",\"startlinecolor\":\"#2a3f5f\"},\"baxis\":{\"endlinecolor\":\"#2a3f5f\",\"gridcolor\":\"white\",\"linecolor\":\"white\",\"minorgridcolor\":\"white\",\"startlinecolor\":\"#2a3f5f\"},\"type\":\"carpet\"}],\"table\":[{\"cells\":{\"fill\":{\"color\":\"#EBF0F8\"},\"line\":{\"color\":\"white\"}},\"header\":{\"fill\":{\"color\":\"#C8D4E3\"},\"line\":{\"color\":\"white\"}},\"type\":\"table\"}],\"barpolar\":[{\"marker\":{\"line\":{\"color\":\"#E5ECF6\",\"width\":0.5},\"pattern\":{\"fillmode\":\"overlay\",\"size\":10,\"solidity\":0.2}},\"type\":\"barpolar\"}],\"pie\":[{\"automargin\":true,\"type\":\"pie\"}]},\"layout\":{\"autotypenumbers\":\"strict\",\"colorway\":[\"#636efa\",\"#EF553B\",\"#00cc96\",\"#ab63fa\",\"#FFA15A\",\"#19d3f3\",\"#FF6692\",\"#B6E880\",\"#FF97FF\",\"#FECB52\"],\"font\":{\"color\":\"#2a3f5f\"},\"hovermode\":\"closest\",\"hoverlabel\":{\"align\":\"left\"},\"paper_bgcolor\":\"white\",\"plot_bgcolor\":\"#E5ECF6\",\"polar\":{\"bgcolor\":\"#E5ECF6\",\"angularaxis\":{\"gridcolor\":\"white\",\"linecolor\":\"white\",\"ticks\":\"\"},\"radialaxis\":{\"gridcolor\":\"white\",\"linecolor\":\"white\",\"ticks\":\"\"}},\"ternary\":{\"bgcolor\":\"#E5ECF6\",\"aaxis\":{\"gridcolor\":\"white\",\"linecolor\":\"white\",\"ticks\":\"\"},\"baxis\":{\"gridcolor\":\"white\",\"linecolor\":\"white\",\"ticks\":\"\"},\"caxis\":{\"gridcolor\":\"white\",\"linecolor\":\"white\",\"ticks\":\"\"}},\"coloraxis\":{\"colorbar\":{\"outlinewidth\":0,\"ticks\":\"\"}},\"colorscale\":{\"sequential\":[[0.0,\"#0d0887\"],[0.1111111111111111,\"#46039f\"],[0.2222222222222222,\"#7201a8\"],[0.3333333333333333,\"#9c179e\"],[0.4444444444444444,\"#bd3786\"],[0.5555555555555556,\"#d8576b\"],[0.6666666666666666,\"#ed7953\"],[0.7777777777777778,\"#fb9f3a\"],[0.8888888888888888,\"#fdca26\"],[1.0,\"#f0f921\"]],\"sequentialminus\":[[0.0,\"#0d0887\"],[0.1111111111111111,\"#46039f\"],[0.2222222222222222,\"#7201a8\"],[0.3333333333333333,\"#9c179e\"],[0.4444444444444444,\"#bd3786\"],[0.5555555555555556,\"#d8576b\"],[0.6666666666666666,\"#ed7953\"],[0.7777777777777778,\"#fb9f3a\"],[0.8888888888888888,\"#fdca26\"],[1.0,\"#f0f921\"]],\"diverging\":[[0,\"#8e0152\"],[0.1,\"#c51b7d\"],[0.2,\"#de77ae\"],[0.3,\"#f1b6da\"],[0.4,\"#fde0ef\"],[0.5,\"#f7f7f7\"],[0.6,\"#e6f5d0\"],[0.7,\"#b8e186\"],[0.8,\"#7fbc41\"],[0.9,\"#4d9221\"],[1,\"#276419\"]]},\"xaxis\":{\"gridcolor\":\"white\",\"linecolor\":\"white\",\"ticks\":\"\",\"title\":{\"standoff\":15},\"zerolinecolor\":\"white\",\"automargin\":true,\"zerolinewidth\":2},\"yaxis\":{\"gridcolor\":\"white\",\"linecolor\":\"white\",\"ticks\":\"\",\"title\":{\"standoff\":15},\"zerolinecolor\":\"white\",\"automargin\":true,\"zerolinewidth\":2},\"scene\":{\"xaxis\":{\"backgroundcolor\":\"#E5ECF6\",\"gridcolor\":\"white\",\"linecolor\":\"white\",\"showbackground\":true,\"ticks\":\"\",\"zerolinecolor\":\"white\",\"gridwidth\":2},\"yaxis\":{\"backgroundcolor\":\"#E5ECF6\",\"gridcolor\":\"white\",\"linecolor\":\"white\",\"showbackground\":true,\"ticks\":\"\",\"zerolinecolor\":\"white\",\"gridwidth\":2},\"zaxis\":{\"backgroundcolor\":\"#E5ECF6\",\"gridcolor\":\"white\",\"linecolor\":\"white\",\"showbackground\":true,\"ticks\":\"\",\"zerolinecolor\":\"white\",\"gridwidth\":2}},\"shapedefaults\":{\"line\":{\"color\":\"#2a3f5f\"}},\"annotationdefaults\":{\"arrowcolor\":\"#2a3f5f\",\"arrowhead\":0,\"arrowwidth\":1},\"geo\":{\"bgcolor\":\"white\",\"landcolor\":\"#E5ECF6\",\"subunitcolor\":\"white\",\"showland\":true,\"showlakes\":true,\"lakecolor\":\"white\"},\"title\":{\"x\":0.05},\"mapbox\":{\"style\":\"light\"}}},\"xaxis\":{\"anchor\":\"y\",\"domain\":[0.0,1.0],\"title\":{\"text\":\"error\"}},\"yaxis\":{\"anchor\":\"x\",\"domain\":[0.0,1.0],\"title\":{\"text\":\"count\"}},\"legend\":{\"tracegroupgap\":0},\"margin\":{\"t\":60},\"barmode\":\"relative\",\"width\":800},                        {\"responsive\": true}                    ).then(function(){\n",
              "                            \n",
              "var gd = document.getElementById('d83371a1-c724-47d2-a988-dbc5cd8a41a5');\n",
              "var x = new MutationObserver(function (mutations, observer) {{\n",
              "        var display = window.getComputedStyle(gd).display;\n",
              "        if (!display || display === 'none') {{\n",
              "            console.log([gd, 'removed!']);\n",
              "            Plotly.purge(gd);\n",
              "            observer.disconnect();\n",
              "        }}\n",
              "}});\n",
              "\n",
              "// Listen for the removal of the full notebook cells\n",
              "var notebookContainer = gd.closest('#notebook-container');\n",
              "if (notebookContainer) {{\n",
              "    x.observe(notebookContainer, {childList: true});\n",
              "}}\n",
              "\n",
              "// Listen for the clearing of the current output cell\n",
              "var outputEl = gd.closest('.output');\n",
              "if (outputEl) {{\n",
              "    x.observe(outputEl, {childList: true});\n",
              "}}\n",
              "\n",
              "                        })                };                            </script>        </div>\n",
              "</body>\n",
              "</html>"
            ]
          },
          "metadata": {}
        }
      ]
    },
    {
      "cell_type": "code",
      "source": [
        "def mean_absolute_error(y_true, y_pred):\n",
        "    return abs(y_true-y_pred).sum() / len(y_true)\n",
        "mean_absolute_error(y_true, y_pred)"
      ],
      "metadata": {
        "colab": {
          "base_uri": "https://localhost:8080/"
        },
        "id": "rAUtAl7uCIvD",
        "outputId": "37020c28-7891-4f68-f384-42fe1f74d096"
      },
      "execution_count": null,
      "outputs": [
        {
          "output_type": "execute_result",
          "data": {
            "text/plain": [
              "8.122133088022562"
            ]
          },
          "metadata": {},
          "execution_count": 11
        }
      ]
    },
    {
      "cell_type": "code",
      "source": [
        "from sklearn.metrics import mean_absolute_error\n",
        "mean_absolute_error(y_true, y_pred)"
      ],
      "metadata": {
        "colab": {
          "base_uri": "https://localhost:8080/"
        },
        "id": "j-ds4dG-ChcG",
        "outputId": "33499181-6240-4224-f7b2-2819715153f0"
      },
      "execution_count": null,
      "outputs": [
        {
          "output_type": "execute_result",
          "data": {
            "text/plain": [
              "8.122133088022562"
            ]
          },
          "metadata": {},
          "execution_count": 12
        }
      ]
    },
    {
      "cell_type": "code",
      "source": [
        "def mean_squared_error(y_true, y_pred):\n",
        "    return ((y_true-y_pred)**2).sum() / len(y_true)\n",
        "mean_squared_error(y_true, y_pred)"
      ],
      "metadata": {
        "colab": {
          "base_uri": "https://localhost:8080/"
        },
        "id": "iS_dBUJkC3JQ",
        "outputId": "729b8262-1baf-4a9d-fa89-73e2b986212b"
      },
      "execution_count": null,
      "outputs": [
        {
          "output_type": "execute_result",
          "data": {
            "text/plain": [
              "100.9469363461055"
            ]
          },
          "metadata": {},
          "execution_count": 13
        }
      ]
    },
    {
      "cell_type": "code",
      "source": [
        "from sklearn.metrics import mean_squared_error\n",
        "mean_squared_error(y_true, y_pred)"
      ],
      "metadata": {
        "colab": {
          "base_uri": "https://localhost:8080/"
        },
        "id": "vfO4v9y-D0R7",
        "outputId": "8c5527f6-6a36-4fc5-e7b7-6357ffcf503d"
      },
      "execution_count": null,
      "outputs": [
        {
          "output_type": "execute_result",
          "data": {
            "text/plain": [
              "100.9469363461055"
            ]
          },
          "metadata": {},
          "execution_count": 14
        }
      ]
    },
    {
      "cell_type": "code",
      "source": [
        "def root_mean_squared_error(y_true, y_pred):\n",
        "    return np.sqrt(((y_true-y_pred)**2).sum() / len(y_true))\n",
        "root_mean_squared_error(y_true, y_pred)"
      ],
      "metadata": {
        "colab": {
          "base_uri": "https://localhost:8080/"
        },
        "id": "0r-sQfxrEmHP",
        "outputId": "54dd944a-4696-4208-f105-a5db37ee395e"
      },
      "execution_count": null,
      "outputs": [
        {
          "output_type": "execute_result",
          "data": {
            "text/plain": [
              "10.047235258821479"
            ]
          },
          "metadata": {},
          "execution_count": 16
        }
      ]
    },
    {
      "cell_type": "code",
      "source": [
        "np.sqrt(mean_squared_error(y_true, y_pred))"
      ],
      "metadata": {
        "colab": {
          "base_uri": "https://localhost:8080/"
        },
        "id": "QA7xRg_TFECn",
        "outputId": "0fb30719-adf6-4a2f-fc16-8071f01c4517"
      },
      "execution_count": null,
      "outputs": [
        {
          "output_type": "execute_result",
          "data": {
            "text/plain": [
              "10.047235258821479"
            ]
          },
          "metadata": {},
          "execution_count": 17
        }
      ]
    },
    {
      "cell_type": "code",
      "source": [
        "from sklearn.metrics import max_error\n",
        "max_error(y_true, y_pred)"
      ],
      "metadata": {
        "colab": {
          "base_uri": "https://localhost:8080/"
        },
        "id": "6bO-XiC_Fu4y",
        "outputId": "b877a27a-e6c1-4831-8003-24d255159adc"
      },
      "execution_count": null,
      "outputs": [
        {
          "output_type": "execute_result",
          "data": {
            "text/plain": [
              "30.245279053508327"
            ]
          },
          "metadata": {},
          "execution_count": 18
        }
      ]
    },
    {
      "cell_type": "code",
      "source": [
        "from sklearn.metrics import r2_score\n",
        "r2_score(y_true, y_pred)"
      ],
      "metadata": {
        "id": "bPwrlmPtGI1H",
        "outputId": "4aa8b7fd-d6c6-4749-89d3-e98d88f89b59",
        "colab": {
          "base_uri": "https://localhost:8080/"
        }
      },
      "execution_count": null,
      "outputs": [
        {
          "output_type": "execute_result",
          "data": {
            "text/plain": [
              "0.7414217124550431"
            ]
          },
          "metadata": {},
          "execution_count": 19
        }
      ]
    },
    {
      "cell_type": "code",
      "source": [
        "import sklearn"
      ],
      "metadata": {
        "id": "eoNgy9yM4e4i"
      },
      "execution_count": 1,
      "outputs": []
    },
    {
      "cell_type": "code",
      "source": [],
      "metadata": {
        "id": "PIqNTD4r4giL"
      },
      "execution_count": null,
      "outputs": []
    }
  ]
}